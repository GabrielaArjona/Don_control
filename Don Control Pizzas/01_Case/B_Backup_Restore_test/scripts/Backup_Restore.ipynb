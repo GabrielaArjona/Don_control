{
 "cells": [
  {
   "cell_type": "markdown",
   "metadata": {},
   "source": [
    "# Backup & Restore\n",
    "\n",
    "Creates timestamped backups and restores with logs."
   ]
  },
  {
   "cell_type": "markdown",
   "metadata": {},
   "source": [
    "**Objectives**\n",
    "- Backup `data/orders.csv`\n",
    "- Restore to `data/restored_orders.csv`\n",
    "- Log to `logs/*.txt`\n",
    "- Verify row counts"
   ]
  },
  {
   "cell_type": "code",
   "execution_count": 1,
   "metadata": {},
   "outputs": [],
   "source": [
    "from pathlib import Path\n",
    "from datetime import datetime\n",
    "import shutil, pandas as pd\n",
    "base_dir = Path('..').resolve()"
   ]
  },
  {
   "cell_type": "code",
   "execution_count": 2,
   "metadata": {},
   "outputs": [],
   "source": [
    "data = base_dir/'data'\n",
    "logs = base_dir/'logs'\n",
    "backups = base_dir/'backups'\n",
    "\n",
    "logs.mkdir(exist_ok=True)\n",
    "backups.mkdir(exist_ok=True)"
   ]
  },
  {
   "cell_type": "code",
   "execution_count": 3,
   "metadata": {},
   "outputs": [
    {
     "data": {
      "text/plain": [
       "WindowsPath('C:/Project/GRC 1/01_Case/B_Backup_Restore_test/backups/orders_2025-09-11T18-16-33Z.csv')"
      ]
     },
     "execution_count": 3,
     "metadata": {},
     "output_type": "execute_result"
    }
   ],
   "source": [
    "src = data/'orders.csv'\n",
    "ts = datetime.now().strftime('%Y-%m-%dT%H-%M-%SZ')\n",
    "backup = backups/f'orders_{ts}.csv'\n",
    "shutil.copy2(src, backup)\n",
    "with (logs/'backup_log.txt').open('a') as f:\n",
    "    f.write(f\"{ts} BACKUP {src.name} -> {backup.name}\\n\")\n",
    "backup"
   ]
  },
  {
   "cell_type": "code",
   "execution_count": 4,
   "metadata": {},
   "outputs": [
    {
     "data": {
      "text/plain": [
       "WindowsPath('C:/Project/GRC 1/01_Case/B_Backup_Restore_test/data/restored_orders.csv')"
      ]
     },
     "execution_count": 4,
     "metadata": {},
     "output_type": "execute_result"
    }
   ],
   "source": [
    "restored = data/'restored_orders.csv'\n",
    "shutil.copy2(backup, restored)\n",
    "with (logs/'restore_log.txt').open('a') as f:\n",
    "    f.write(f\"{ts} RESTORE {backup.name} -> {restored.name}\\n\")\n",
    "restored"
   ]
  },
  {
   "cell_type": "code",
   "execution_count": 5,
   "metadata": {},
   "outputs": [
    {
     "data": {
      "text/plain": [
       "{'orig_rows': 4, 'restored_rows': 4, 'match': True}"
      ]
     },
     "execution_count": 5,
     "metadata": {},
     "output_type": "execute_result"
    }
   ],
   "source": [
    "orig = pd.read_csv(src)\n",
    "rest = pd.read_csv(restored)\n",
    "{'orig_rows': len(orig), 'restored_rows': len(rest), 'match': len(orig)==len(rest)}"
   ]
  },
  {
   "cell_type": "code",
   "execution_count": null,
   "metadata": {},
   "outputs": [],
   "source": [
    "import hashlib\n",
    "from datetime import datetime\n",
    "for logname in ['backup_log.txt','restore_log.txt']:\n",
    "    lp = logs/logname\n",
    "    sha = hashlib.sha256(lp.read_bytes()).hexdigest()\n",
    "    t = datetime.now().strftime('%Y-%m-%dT%H-%M-%SZ')\n",
    "    print(f'{t}  {logname}  SHA256={sha}')"
   ]
  }
 ],
 "metadata": {
  "kernelspec": {
   "display_name": "Python 3",
   "language": "python",
   "name": "python3"
  },
  "language_info": {
   "codemirror_mode": {
    "name": "ipython",
    "version": 3
   },
   "file_extension": ".py",
   "mimetype": "text/x-python",
   "name": "python",
   "nbconvert_exporter": "python",
   "pygments_lexer": "ipython3",
   "version": "3.12.10"
  }
 },
 "nbformat": 4,
 "nbformat_minor": 5
}
