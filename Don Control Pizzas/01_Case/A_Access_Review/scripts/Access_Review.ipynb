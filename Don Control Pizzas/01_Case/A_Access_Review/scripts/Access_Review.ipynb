{
 "cells": [
  {
   "cell_type": "markdown",
   "metadata": {},
   "source": [
    "# Access Review\n",
    "\n",
    "Reproduces the access review demo for the pizza shop (POS/CRM). "
   ]
  },
  {
   "cell_type": "markdown",
   "metadata": {},
   "source": [
    "**Objectives**\n",
    "- Join `users.csv`, `roles.csv`, `assignments.csv`\n",
    "- Flag orphan/inactive users with access\n",
    "- Flag high-privilege users (>=8)\n",
    "- Save `outputs/findings.csv` and show KPIs"
   ]
  },
  {
   "cell_type": "code",
   "execution_count": 3,
   "metadata": {},
   "outputs": [],
   "source": [
    "from pathlib import Path\n",
    "import pandas as pd\n",
    "base_dir = Path('..').resolve()"
   ]
  },
  {
   "cell_type": "code",
   "execution_count": 7,
   "metadata": {},
   "outputs": [
    {
     "data": {
      "text/plain": [
       "(    uid       role\n",
       " 0  u001  POS_Admin\n",
       " 1  u001   CRM_User\n",
       " 2  u002   CRM_User\n",
       " 3  u003   POS_User\n",
       " 4  u004  CRM_Admin,\n",
       "     uid   name      dept  active\n",
       " 0  u001  Alice       Ops    True\n",
       " 1  u002    Bob  Delivery   False\n",
       " 2  u003  Carol     Sales    True\n",
       " 3  u004   Dave       Ops    True,\n",
       "         role  priv_level\n",
       " 0  POS_Admin           9\n",
       " 1   POS_User           3\n",
       " 2  CRM_Admin           9\n",
       " 3   CRM_User           3)"
      ]
     },
     "execution_count": 7,
     "metadata": {},
     "output_type": "execute_result"
    }
   ],
   "source": [
    "assignments = pd.read_csv(base_dir/'data'/'assignments.csv')\n",
    "roles = pd.read_csv(base_dir/'data'/'roles.csv')\n",
    "users = pd.read_csv(base_dir/'data'/'users.csv')\n",
    "\n",
    "assignments.head(), users.head(), roles.head()"
   ]
  },
  {
   "cell_type": "code",
   "execution_count": 8,
   "metadata": {},
   "outputs": [
    {
     "data": {
      "text/html": [
       "<div>\n",
       "<style scoped>\n",
       "    .dataframe tbody tr th:only-of-type {\n",
       "        vertical-align: middle;\n",
       "    }\n",
       "\n",
       "    .dataframe tbody tr th {\n",
       "        vertical-align: top;\n",
       "    }\n",
       "\n",
       "    .dataframe thead th {\n",
       "        text-align: right;\n",
       "    }\n",
       "</style>\n",
       "<table border=\"1\" class=\"dataframe\">\n",
       "  <thead>\n",
       "    <tr style=\"text-align: right;\">\n",
       "      <th></th>\n",
       "      <th>uid</th>\n",
       "      <th>role</th>\n",
       "      <th>name</th>\n",
       "      <th>dept</th>\n",
       "      <th>active</th>\n",
       "      <th>priv_level</th>\n",
       "    </tr>\n",
       "  </thead>\n",
       "  <tbody>\n",
       "    <tr>\n",
       "      <th>0</th>\n",
       "      <td>u001</td>\n",
       "      <td>POS_Admin</td>\n",
       "      <td>Alice</td>\n",
       "      <td>Ops</td>\n",
       "      <td>True</td>\n",
       "      <td>9</td>\n",
       "    </tr>\n",
       "    <tr>\n",
       "      <th>1</th>\n",
       "      <td>u001</td>\n",
       "      <td>CRM_User</td>\n",
       "      <td>Alice</td>\n",
       "      <td>Ops</td>\n",
       "      <td>True</td>\n",
       "      <td>3</td>\n",
       "    </tr>\n",
       "    <tr>\n",
       "      <th>2</th>\n",
       "      <td>u002</td>\n",
       "      <td>CRM_User</td>\n",
       "      <td>Bob</td>\n",
       "      <td>Delivery</td>\n",
       "      <td>False</td>\n",
       "      <td>3</td>\n",
       "    </tr>\n",
       "    <tr>\n",
       "      <th>3</th>\n",
       "      <td>u003</td>\n",
       "      <td>POS_User</td>\n",
       "      <td>Carol</td>\n",
       "      <td>Sales</td>\n",
       "      <td>True</td>\n",
       "      <td>3</td>\n",
       "    </tr>\n",
       "    <tr>\n",
       "      <th>4</th>\n",
       "      <td>u004</td>\n",
       "      <td>CRM_Admin</td>\n",
       "      <td>Dave</td>\n",
       "      <td>Ops</td>\n",
       "      <td>True</td>\n",
       "      <td>9</td>\n",
       "    </tr>\n",
       "  </tbody>\n",
       "</table>\n",
       "</div>"
      ],
      "text/plain": [
       "    uid       role   name      dept  active  priv_level\n",
       "0  u001  POS_Admin  Alice       Ops    True           9\n",
       "1  u001   CRM_User  Alice       Ops    True           3\n",
       "2  u002   CRM_User    Bob  Delivery   False           3\n",
       "3  u003   POS_User  Carol     Sales    True           3\n",
       "4  u004  CRM_Admin   Dave       Ops    True           9"
      ]
     },
     "execution_count": 8,
     "metadata": {},
     "output_type": "execute_result"
    }
   ],
   "source": [
    "merged = assignments.merge(users, on='uid', how='left').merge(roles, on='role', how='left')\n",
    "merged.head()"
   ]
  },
  {
   "cell_type": "code",
   "execution_count": null,
   "metadata": {},
   "outputs": [
    {
     "data": {
      "text/html": [
       "<div>\n",
       "<style scoped>\n",
       "    .dataframe tbody tr th:only-of-type {\n",
       "        vertical-align: middle;\n",
       "    }\n",
       "\n",
       "    .dataframe tbody tr th {\n",
       "        vertical-align: top;\n",
       "    }\n",
       "\n",
       "    .dataframe thead th {\n",
       "        text-align: right;\n",
       "    }\n",
       "</style>\n",
       "<table border=\"1\" class=\"dataframe\">\n",
       "  <thead>\n",
       "    <tr style=\"text-align: right;\">\n",
       "      <th></th>\n",
       "      <th>uid</th>\n",
       "      <th>role</th>\n",
       "      <th>issue</th>\n",
       "      <th>severity</th>\n",
       "      <th>priv_level</th>\n",
       "    </tr>\n",
       "  </thead>\n",
       "  <tbody>\n",
       "    <tr>\n",
       "      <th>0</th>\n",
       "      <td>u002</td>\n",
       "      <td>CRM_User</td>\n",
       "      <td>orphan_or_inactive_user_with_access</td>\n",
       "      <td>High</td>\n",
       "      <td>NaN</td>\n",
       "    </tr>\n",
       "    <tr>\n",
       "      <th>1</th>\n",
       "      <td>u001</td>\n",
       "      <td>POS_Admin</td>\n",
       "      <td>high_privilege_review_required</td>\n",
       "      <td>Medium</td>\n",
       "      <td>9.0</td>\n",
       "    </tr>\n",
       "    <tr>\n",
       "      <th>2</th>\n",
       "      <td>u004</td>\n",
       "      <td>CRM_Admin</td>\n",
       "      <td>high_privilege_review_required</td>\n",
       "      <td>Medium</td>\n",
       "      <td>9.0</td>\n",
       "    </tr>\n",
       "  </tbody>\n",
       "</table>\n",
       "</div>"
      ],
      "text/plain": [
       "    uid       role                                issue severity  priv_level\n",
       "0  u002   CRM_User  orphan_or_inactive_user_with_access     High         NaN\n",
       "1  u001  POS_Admin       high_privilege_review_required   Medium         9.0\n",
       "2  u004  CRM_Admin       high_privilege_review_required   Medium         9.0"
      ]
     },
     "execution_count": 11,
     "metadata": {},
     "output_type": "execute_result"
    }
   ],
   "source": [
    "orphan = merged[merged['active'].fillna(False)==False][['uid','role']].drop_duplicates()\n",
    "orphan['issue'] = 'orphan_or_inactive_user_with_access'\n",
    "orphan['severity'] = 'High'\n",
    "\n",
    "high = merged[merged['priv_level'].fillna(0)>=8][['uid','role','priv_level']].drop_duplicates()\n",
    "high['issue'] = 'high_privilege_review_required'\n",
    "high['severity'] = 'Medium'\n",
    "\n",
    "findings = pd.concat([orphan, high], ignore_index=True)\n",
    "findings"
   ]
  },
  {
   "cell_type": "code",
   "execution_count": 12,
   "metadata": {},
   "outputs": [
    {
     "data": {
      "text/plain": [
       "{'orphans': 1, 'high_privilege': 2, 'total_findings': 3}"
      ]
     },
     "execution_count": 12,
     "metadata": {},
     "output_type": "execute_result"
    }
   ],
   "source": [
    "kpi_orphans = len(orphan)\n",
    "kpi_high = len(high)\n",
    "{'orphans': kpi_orphans, 'high_privilege': kpi_high, 'total_findings': len(findings)}"
   ]
  },
  {
   "cell_type": "code",
   "execution_count": 13,
   "metadata": {},
   "outputs": [
    {
     "name": "stdout",
     "output_type": "stream",
     "text": [
      "Saved: C:\\Project\\GRC 1\\01_Case\\A_Access_Review\\outputs\\findings.csv\n"
     ]
    }
   ],
   "source": [
    "out = base_dir/'outputs'\n",
    "out.mkdir(parents=True, exist_ok=True)\n",
    "findings.to_csv(out/'findings.csv', index=False)\n",
    "print('Saved:', out/'findings.csv')"
   ]
  },
  {
   "cell_type": "code",
   "execution_count": 16,
   "metadata": {},
   "outputs": [
    {
     "name": "stdout",
     "output_type": "stream",
     "text": [
      "2025-09-10T22:58:51Z  findings.csv  SHA256=426790cb24b149c700ff591363a73f9bcaad7272c1c9d2be50ab77c941f554fb\n"
     ]
    }
   ],
   "source": [
    "from datetime import datetime\n",
    "import hashlib\n",
    "p = out/'findings.csv'\n",
    "sha = hashlib.sha256(p.read_bytes()).hexdigest()\n",
    "ts = datetime.now().strftime('%Y-%m-%dT%H:%M:%SZ')\n",
    "print(f'{ts}  {p.name}  SHA256={sha}')"
   ]
  }
 ],
 "metadata": {
  "kernelspec": {
   "display_name": "Python 3",
   "language": "python",
   "name": "python3"
  },
  "language_info": {
   "codemirror_mode": {
    "name": "ipython",
    "version": 3
   },
   "file_extension": ".py",
   "mimetype": "text/x-python",
   "name": "python",
   "nbconvert_exporter": "python",
   "pygments_lexer": "ipython3",
   "version": "3.12.10"
  }
 },
 "nbformat": 4,
 "nbformat_minor": 5
}
