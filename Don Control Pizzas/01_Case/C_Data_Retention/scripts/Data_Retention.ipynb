{
 "cells": [
  {
   "cell_type": "markdown",
   "metadata": {},
   "source": [
    "# Data Classification & Retention\n",
    "\n",
    "Labels columns and purges old records with evidence logs."
   ]
  },
  {
   "cell_type": "markdown",
   "metadata": {},
   "source": [
    "**Objectives**\n",
    "- Label columns in `data/customers.csv` (personal/internal/public)\n",
    "- Purge records older than N months (default 18)\n",
    "- Save labels, purged dataset, and log"
   ]
  },
  {
   "cell_type": "code",
   "execution_count": 7,
   "id": "a234f693",
   "metadata": {},
   "outputs": [],
   "source": [
    "from pathlib import Path\n",
    "import pandas as pd, re, datetime\n",
    "base_dir = Path('..').resolve()"
   ]
  },
  {
   "cell_type": "code",
   "execution_count": 8,
   "id": "cdd085a9",
   "metadata": {},
   "outputs": [],
   "source": [
    "data = base_dir/'data'\n",
    "logs = base_dir/'logs'\n",
    "logs.mkdir(exist_ok=True)\n",
    "src = data/'customers.csv'"
   ]
  },
  {
   "cell_type": "code",
   "execution_count": null,
   "id": "72709ed8",
   "metadata": {},
   "outputs": [
    {
     "data": {
      "text/html": [
       "<div>\n",
       "<style scoped>\n",
       "    .dataframe tbody tr th:only-of-type {\n",
       "        vertical-align: middle;\n",
       "    }\n",
       "\n",
       "    .dataframe tbody tr th {\n",
       "        vertical-align: top;\n",
       "    }\n",
       "\n",
       "    .dataframe thead th {\n",
       "        text-align: right;\n",
       "    }\n",
       "</style>\n",
       "<table border=\"1\" class=\"dataframe\">\n",
       "  <thead>\n",
       "    <tr style=\"text-align: right;\">\n",
       "      <th></th>\n",
       "      <th>column</th>\n",
       "      <th>classification</th>\n",
       "    </tr>\n",
       "  </thead>\n",
       "  <tbody>\n",
       "    <tr>\n",
       "      <th>0</th>\n",
       "      <td>customer_id</td>\n",
       "      <td>public</td>\n",
       "    </tr>\n",
       "    <tr>\n",
       "      <th>1</th>\n",
       "      <td>full_name</td>\n",
       "      <td>personal</td>\n",
       "    </tr>\n",
       "    <tr>\n",
       "      <th>2</th>\n",
       "      <td>email</td>\n",
       "      <td>personal</td>\n",
       "    </tr>\n",
       "    <tr>\n",
       "      <th>3</th>\n",
       "      <td>phone</td>\n",
       "      <td>personal</td>\n",
       "    </tr>\n",
       "    <tr>\n",
       "      <th>4</th>\n",
       "      <td>address</td>\n",
       "      <td>personal</td>\n",
       "    </tr>\n",
       "  </tbody>\n",
       "</table>\n",
       "</div>"
      ],
      "text/plain": [
       "        column classification\n",
       "0  customer_id         public\n",
       "1    full_name       personal\n",
       "2        email       personal\n",
       "3        phone       personal\n",
       "4      address       personal"
      ]
     },
     "execution_count": 9,
     "metadata": {},
     "output_type": "execute_result"
    }
   ],
   "source": [
    "patterns = {\n",
    "    'personal': re.compile(r'(name|email|phone|address|dni|curp)', re.I),\n",
    "    'internal': re.compile(r'(cost|margin|salary|secret|key|token)', re.I),\n",
    "}\n",
    "\n",
    "def classify(col):\n",
    "    for label, rx in patterns.items():\n",
    "        if rx.search(str(col)):\n",
    "            return label\n",
    "    return 'public'\n",
    "\n",
    "df = pd.read_csv(src)\n",
    "labels = {c: classify(c) for c in df.columns}\n",
    "labels_df = pd.DataFrame({'column': list(labels.keys()), 'classification': list(labels.values())})\n",
    "labels_df.to_csv(data/'customers_labels.csv', index=False)\n",
    "labels_df.head()"
   ]
  },
  {
   "cell_type": "code",
   "execution_count": 11,
   "id": "7fabd000",
   "metadata": {},
   "outputs": [],
   "source": [
    "from datetime import datetime, timezone\n",
    "RETENTION_MONTHS = 18\n",
    "\n",
    "now_utc = datetime.now(timezone.utc)\n",
    "cutoff = pd.Timestamp(now_utc) - pd.DateOffset(months=RETENTION_MONTHS)\n",
    "\n",
    "dates = pd.to_datetime(df['last_order_date'], errors='coerce', utc=True)\n",
    "mask_old = dates < cutoff \n",
    "purged = df[mask_old]\n",
    "kept = df[~mask_old]\n",
    "\n",
    "kept.to_csv(data / 'customers_after_purge.csv', index=False)\n",
    "\n",
    "with (logs/'purge_log.txt').open('a') as f:\n",
    "    f.write(f\"{now_utc.strftime('%Y-%m-%dT%H:%M:%SZ')} Purged {len(purged)}/{len(df)} older than {RETENTION_MONTHS} months. Cutoff={cutoff.date()}\\n\")"
   ]
  },
  {
   "cell_type": "code",
   "execution_count": 13,
   "metadata": {},
   "outputs": [
    {
     "name": "stdout",
     "output_type": "stream",
     "text": [
      "2025-09-11T22:10:34Z  purge_log.txt\n"
     ]
    }
   ],
   "source": [
    "import hashlib\n",
    "from datetime import datetime\n",
    "lp = logs/'purge_log.txt'\n",
    "sha = hashlib.sha256(lp.read_bytes()).hexdigest()\n",
    "ts = datetime.now().strftime('%Y-%m-%dT%H:%M:%SZ')\n",
    "print(f'{ts}  purge_log.txt')\n",
    "#print(f'{ts}  purge_log.txt  SHA256={sha}')"
   ]
  }
 ],
 "metadata": {
  "kernelspec": {
   "display_name": "Python 3",
   "language": "python",
   "name": "python3"
  },
  "language_info": {
   "name": "python",
   "pygments_lexer": "ipython3"
  }
 },
 "nbformat": 4,
 "nbformat_minor": 5
}
